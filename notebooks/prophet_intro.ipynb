{
 "cells": [
  {
   "cell_type": "code",
   "execution_count": 1,
   "metadata": {},
   "outputs": [],
   "source": [
    "import pandas as pd\n",
    "from fbprophet import Prophet \n",
    "\n",
    "import matplotlib.pyplot as plt"
   ]
  },
  {
   "cell_type": "markdown",
   "metadata": {},
   "source": [
    "# 1. Intro"
   ]
  },
  {
   "cell_type": "code",
   "execution_count": 2,
   "metadata": {},
   "outputs": [],
   "source": [
    "df = pd.read_csv('../data/BeerWineLiquor.csv')"
   ]
  },
  {
   "cell_type": "code",
   "execution_count": 3,
   "metadata": {},
   "outputs": [
    {
     "data": {
      "text/html": [
       "<div>\n",
       "<style scoped>\n",
       "    .dataframe tbody tr th:only-of-type {\n",
       "        vertical-align: middle;\n",
       "    }\n",
       "\n",
       "    .dataframe tbody tr th {\n",
       "        vertical-align: top;\n",
       "    }\n",
       "\n",
       "    .dataframe thead th {\n",
       "        text-align: right;\n",
       "    }\n",
       "</style>\n",
       "<table border=\"1\" class=\"dataframe\">\n",
       "  <thead>\n",
       "    <tr style=\"text-align: right;\">\n",
       "      <th></th>\n",
       "      <th>date</th>\n",
       "      <th>beer</th>\n",
       "    </tr>\n",
       "  </thead>\n",
       "  <tbody>\n",
       "    <tr>\n",
       "      <th>0</th>\n",
       "      <td>1/1/1992</td>\n",
       "      <td>1509</td>\n",
       "    </tr>\n",
       "    <tr>\n",
       "      <th>1</th>\n",
       "      <td>2/1/1992</td>\n",
       "      <td>1541</td>\n",
       "    </tr>\n",
       "    <tr>\n",
       "      <th>2</th>\n",
       "      <td>3/1/1992</td>\n",
       "      <td>1597</td>\n",
       "    </tr>\n",
       "    <tr>\n",
       "      <th>3</th>\n",
       "      <td>4/1/1992</td>\n",
       "      <td>1675</td>\n",
       "    </tr>\n",
       "    <tr>\n",
       "      <th>4</th>\n",
       "      <td>5/1/1992</td>\n",
       "      <td>1822</td>\n",
       "    </tr>\n",
       "  </tbody>\n",
       "</table>\n",
       "</div>"
      ],
      "text/plain": [
       "       date  beer\n",
       "0  1/1/1992  1509\n",
       "1  2/1/1992  1541\n",
       "2  3/1/1992  1597\n",
       "3  4/1/1992  1675\n",
       "4  5/1/1992  1822"
      ]
     },
     "execution_count": 3,
     "metadata": {},
     "output_type": "execute_result"
    }
   ],
   "source": [
    "df.head()"
   ]
  },
  {
   "cell_type": "markdown",
   "metadata": {},
   "source": [
    "The way the Prophet library works is that time column name should be 'ds' and y column name should be 'y'. So, we will rename the columns. Also, 'ds' column should be datetime object."
   ]
  },
  {
   "cell_type": "code",
   "execution_count": 7,
   "metadata": {},
   "outputs": [],
   "source": [
    "df.columns = ['ds', 'y']\n",
    "df['ds'] = pd.to_datetime(df['ds'])"
   ]
  },
  {
   "cell_type": "code",
   "execution_count": 8,
   "metadata": {},
   "outputs": [
    {
     "data": {
      "text/html": [
       "<div>\n",
       "<style scoped>\n",
       "    .dataframe tbody tr th:only-of-type {\n",
       "        vertical-align: middle;\n",
       "    }\n",
       "\n",
       "    .dataframe tbody tr th {\n",
       "        vertical-align: top;\n",
       "    }\n",
       "\n",
       "    .dataframe thead th {\n",
       "        text-align: right;\n",
       "    }\n",
       "</style>\n",
       "<table border=\"1\" class=\"dataframe\">\n",
       "  <thead>\n",
       "    <tr style=\"text-align: right;\">\n",
       "      <th></th>\n",
       "      <th>ds</th>\n",
       "      <th>y</th>\n",
       "    </tr>\n",
       "  </thead>\n",
       "  <tbody>\n",
       "    <tr>\n",
       "      <th>0</th>\n",
       "      <td>1992-01-01</td>\n",
       "      <td>1509</td>\n",
       "    </tr>\n",
       "    <tr>\n",
       "      <th>1</th>\n",
       "      <td>1992-02-01</td>\n",
       "      <td>1541</td>\n",
       "    </tr>\n",
       "    <tr>\n",
       "      <th>2</th>\n",
       "      <td>1992-03-01</td>\n",
       "      <td>1597</td>\n",
       "    </tr>\n",
       "    <tr>\n",
       "      <th>3</th>\n",
       "      <td>1992-04-01</td>\n",
       "      <td>1675</td>\n",
       "    </tr>\n",
       "    <tr>\n",
       "      <th>4</th>\n",
       "      <td>1992-05-01</td>\n",
       "      <td>1822</td>\n",
       "    </tr>\n",
       "  </tbody>\n",
       "</table>\n",
       "</div>"
      ],
      "text/plain": [
       "          ds     y\n",
       "0 1992-01-01  1509\n",
       "1 1992-02-01  1541\n",
       "2 1992-03-01  1597\n",
       "3 1992-04-01  1675\n",
       "4 1992-05-01  1822"
      ]
     },
     "execution_count": 8,
     "metadata": {},
     "output_type": "execute_result"
    }
   ],
   "source": [
    "df.head()"
   ]
  },
  {
   "cell_type": "code",
   "execution_count": 9,
   "metadata": {},
   "outputs": [
    {
     "name": "stdout",
     "output_type": "stream",
     "text": [
      "<class 'pandas.core.frame.DataFrame'>\n",
      "RangeIndex: 324 entries, 0 to 323\n",
      "Data columns (total 2 columns):\n",
      " #   Column  Non-Null Count  Dtype         \n",
      "---  ------  --------------  -----         \n",
      " 0   ds      324 non-null    datetime64[ns]\n",
      " 1   y       324 non-null    int64         \n",
      "dtypes: datetime64[ns](1), int64(1)\n",
      "memory usage: 5.2 KB\n"
     ]
    }
   ],
   "source": [
    "df.info()"
   ]
  },
  {
   "cell_type": "code",
   "execution_count": 10,
   "metadata": {},
   "outputs": [
    {
     "name": "stderr",
     "output_type": "stream",
     "text": [
      "INFO:fbprophet:Disabling weekly seasonality. Run prophet with weekly_seasonality=True to override this.\n",
      "INFO:fbprophet:Disabling daily seasonality. Run prophet with daily_seasonality=True to override this.\n"
     ]
    },
    {
     "data": {
      "text/plain": [
       "<fbprophet.forecaster.Prophet at 0x11c8ab160>"
      ]
     },
     "execution_count": 10,
     "metadata": {},
     "output_type": "execute_result"
    }
   ],
   "source": [
    "# fit model - ignore train/test split for now \n",
    "m = Prophet()\n",
    "m.fit(df)"
   ]
  },
  {
   "cell_type": "markdown",
   "metadata": {},
   "source": [
    "It did not find weekly or daily seasonality so it's disabled automatically. It makes sense because it is monthly data. If I know the data has weekly or daily seasonality, we can set the parameters to be True."
   ]
  },
  {
   "cell_type": "code",
   "execution_count": 11,
   "metadata": {},
   "outputs": [],
   "source": [
    "# future dataframe - placeholder object\n",
    "future = m.make_future_dataframe(periods=24, freq='MS')  # one period = one row = 1 month for this data"
   ]
  },
  {
   "cell_type": "code",
   "execution_count": 12,
   "metadata": {},
   "outputs": [
    {
     "data": {
      "text/html": [
       "<div>\n",
       "<style scoped>\n",
       "    .dataframe tbody tr th:only-of-type {\n",
       "        vertical-align: middle;\n",
       "    }\n",
       "\n",
       "    .dataframe tbody tr th {\n",
       "        vertical-align: top;\n",
       "    }\n",
       "\n",
       "    .dataframe thead th {\n",
       "        text-align: right;\n",
       "    }\n",
       "</style>\n",
       "<table border=\"1\" class=\"dataframe\">\n",
       "  <thead>\n",
       "    <tr style=\"text-align: right;\">\n",
       "      <th></th>\n",
       "      <th>ds</th>\n",
       "    </tr>\n",
       "  </thead>\n",
       "  <tbody>\n",
       "    <tr>\n",
       "      <th>0</th>\n",
       "      <td>1992-01-01</td>\n",
       "    </tr>\n",
       "    <tr>\n",
       "      <th>1</th>\n",
       "      <td>1992-02-01</td>\n",
       "    </tr>\n",
       "    <tr>\n",
       "      <th>2</th>\n",
       "      <td>1992-03-01</td>\n",
       "    </tr>\n",
       "    <tr>\n",
       "      <th>3</th>\n",
       "      <td>1992-04-01</td>\n",
       "    </tr>\n",
       "    <tr>\n",
       "      <th>4</th>\n",
       "      <td>1992-05-01</td>\n",
       "    </tr>\n",
       "  </tbody>\n",
       "</table>\n",
       "</div>"
      ],
      "text/plain": [
       "          ds\n",
       "0 1992-01-01\n",
       "1 1992-02-01\n",
       "2 1992-03-01\n",
       "3 1992-04-01\n",
       "4 1992-05-01"
      ]
     },
     "execution_count": 12,
     "metadata": {},
     "output_type": "execute_result"
    }
   ],
   "source": [
    "# start of the future df is same as the original data \n",
    "future.head()"
   ]
  },
  {
   "cell_type": "code",
   "execution_count": 13,
   "metadata": {},
   "outputs": [
    {
     "data": {
      "text/html": [
       "<div>\n",
       "<style scoped>\n",
       "    .dataframe tbody tr th:only-of-type {\n",
       "        vertical-align: middle;\n",
       "    }\n",
       "\n",
       "    .dataframe tbody tr th {\n",
       "        vertical-align: top;\n",
       "    }\n",
       "\n",
       "    .dataframe thead th {\n",
       "        text-align: right;\n",
       "    }\n",
       "</style>\n",
       "<table border=\"1\" class=\"dataframe\">\n",
       "  <thead>\n",
       "    <tr style=\"text-align: right;\">\n",
       "      <th></th>\n",
       "      <th>ds</th>\n",
       "    </tr>\n",
       "  </thead>\n",
       "  <tbody>\n",
       "    <tr>\n",
       "      <th>343</th>\n",
       "      <td>2020-08-01</td>\n",
       "    </tr>\n",
       "    <tr>\n",
       "      <th>344</th>\n",
       "      <td>2020-09-01</td>\n",
       "    </tr>\n",
       "    <tr>\n",
       "      <th>345</th>\n",
       "      <td>2020-10-01</td>\n",
       "    </tr>\n",
       "    <tr>\n",
       "      <th>346</th>\n",
       "      <td>2020-11-01</td>\n",
       "    </tr>\n",
       "    <tr>\n",
       "      <th>347</th>\n",
       "      <td>2020-12-01</td>\n",
       "    </tr>\n",
       "  </tbody>\n",
       "</table>\n",
       "</div>"
      ],
      "text/plain": [
       "            ds\n",
       "343 2020-08-01\n",
       "344 2020-09-01\n",
       "345 2020-10-01\n",
       "346 2020-11-01\n",
       "347 2020-12-01"
      ]
     },
     "execution_count": 13,
     "metadata": {},
     "output_type": "execute_result"
    }
   ],
   "source": [
    "# end of the future df is original + 24 periods (2 years)\n",
    "future.tail()"
   ]
  },
  {
   "cell_type": "code",
   "execution_count": 14,
   "metadata": {},
   "outputs": [],
   "source": [
    "# predict the future on the model for the given future df \n",
    "forecast = m.predict(future)"
   ]
  },
  {
   "cell_type": "code",
   "execution_count": 15,
   "metadata": {},
   "outputs": [
    {
     "data": {
      "text/html": [
       "<div>\n",
       "<style scoped>\n",
       "    .dataframe tbody tr th:only-of-type {\n",
       "        vertical-align: middle;\n",
       "    }\n",
       "\n",
       "    .dataframe tbody tr th {\n",
       "        vertical-align: top;\n",
       "    }\n",
       "\n",
       "    .dataframe thead th {\n",
       "        text-align: right;\n",
       "    }\n",
       "</style>\n",
       "<table border=\"1\" class=\"dataframe\">\n",
       "  <thead>\n",
       "    <tr style=\"text-align: right;\">\n",
       "      <th></th>\n",
       "      <th>ds</th>\n",
       "      <th>trend</th>\n",
       "      <th>yhat_lower</th>\n",
       "      <th>yhat_upper</th>\n",
       "      <th>trend_lower</th>\n",
       "      <th>trend_upper</th>\n",
       "      <th>additive_terms</th>\n",
       "      <th>additive_terms_lower</th>\n",
       "      <th>additive_terms_upper</th>\n",
       "      <th>yearly</th>\n",
       "      <th>yearly_lower</th>\n",
       "      <th>yearly_upper</th>\n",
       "      <th>multiplicative_terms</th>\n",
       "      <th>multiplicative_terms_lower</th>\n",
       "      <th>multiplicative_terms_upper</th>\n",
       "      <th>yhat</th>\n",
       "    </tr>\n",
       "  </thead>\n",
       "  <tbody>\n",
       "    <tr>\n",
       "      <th>0</th>\n",
       "      <td>1992-01-01</td>\n",
       "      <td>1777.750825</td>\n",
       "      <td>1155.597216</td>\n",
       "      <td>1470.301730</td>\n",
       "      <td>1777.750825</td>\n",
       "      <td>1777.750825</td>\n",
       "      <td>-461.808985</td>\n",
       "      <td>-461.808985</td>\n",
       "      <td>-461.808985</td>\n",
       "      <td>-461.808985</td>\n",
       "      <td>-461.808985</td>\n",
       "      <td>-461.808985</td>\n",
       "      <td>0.0</td>\n",
       "      <td>0.0</td>\n",
       "      <td>0.0</td>\n",
       "      <td>1315.941840</td>\n",
       "    </tr>\n",
       "    <tr>\n",
       "      <th>1</th>\n",
       "      <td>1992-02-01</td>\n",
       "      <td>1780.417028</td>\n",
       "      <td>1184.504740</td>\n",
       "      <td>1520.859362</td>\n",
       "      <td>1780.417028</td>\n",
       "      <td>1780.417028</td>\n",
       "      <td>-426.178759</td>\n",
       "      <td>-426.178759</td>\n",
       "      <td>-426.178759</td>\n",
       "      <td>-426.178759</td>\n",
       "      <td>-426.178759</td>\n",
       "      <td>-426.178759</td>\n",
       "      <td>0.0</td>\n",
       "      <td>0.0</td>\n",
       "      <td>0.0</td>\n",
       "      <td>1354.238270</td>\n",
       "    </tr>\n",
       "    <tr>\n",
       "      <th>2</th>\n",
       "      <td>1992-03-01</td>\n",
       "      <td>1782.911219</td>\n",
       "      <td>1446.180601</td>\n",
       "      <td>1776.293359</td>\n",
       "      <td>1782.911219</td>\n",
       "      <td>1782.911219</td>\n",
       "      <td>-178.363746</td>\n",
       "      <td>-178.363746</td>\n",
       "      <td>-178.363746</td>\n",
       "      <td>-178.363746</td>\n",
       "      <td>-178.363746</td>\n",
       "      <td>-178.363746</td>\n",
       "      <td>0.0</td>\n",
       "      <td>0.0</td>\n",
       "      <td>0.0</td>\n",
       "      <td>1604.547472</td>\n",
       "    </tr>\n",
       "    <tr>\n",
       "      <th>3</th>\n",
       "      <td>1992-04-01</td>\n",
       "      <td>1785.577422</td>\n",
       "      <td>1438.838518</td>\n",
       "      <td>1754.354354</td>\n",
       "      <td>1785.577422</td>\n",
       "      <td>1785.577422</td>\n",
       "      <td>-195.905793</td>\n",
       "      <td>-195.905793</td>\n",
       "      <td>-195.905793</td>\n",
       "      <td>-195.905793</td>\n",
       "      <td>-195.905793</td>\n",
       "      <td>-195.905793</td>\n",
       "      <td>0.0</td>\n",
       "      <td>0.0</td>\n",
       "      <td>0.0</td>\n",
       "      <td>1589.671629</td>\n",
       "    </tr>\n",
       "    <tr>\n",
       "      <th>4</th>\n",
       "      <td>1992-05-01</td>\n",
       "      <td>1788.157619</td>\n",
       "      <td>1653.882072</td>\n",
       "      <td>1994.359708</td>\n",
       "      <td>1788.157619</td>\n",
       "      <td>1788.157619</td>\n",
       "      <td>45.003300</td>\n",
       "      <td>45.003300</td>\n",
       "      <td>45.003300</td>\n",
       "      <td>45.003300</td>\n",
       "      <td>45.003300</td>\n",
       "      <td>45.003300</td>\n",
       "      <td>0.0</td>\n",
       "      <td>0.0</td>\n",
       "      <td>0.0</td>\n",
       "      <td>1833.160919</td>\n",
       "    </tr>\n",
       "  </tbody>\n",
       "</table>\n",
       "</div>"
      ],
      "text/plain": [
       "          ds        trend   yhat_lower   yhat_upper  trend_lower  trend_upper  \\\n",
       "0 1992-01-01  1777.750825  1155.597216  1470.301730  1777.750825  1777.750825   \n",
       "1 1992-02-01  1780.417028  1184.504740  1520.859362  1780.417028  1780.417028   \n",
       "2 1992-03-01  1782.911219  1446.180601  1776.293359  1782.911219  1782.911219   \n",
       "3 1992-04-01  1785.577422  1438.838518  1754.354354  1785.577422  1785.577422   \n",
       "4 1992-05-01  1788.157619  1653.882072  1994.359708  1788.157619  1788.157619   \n",
       "\n",
       "   additive_terms  additive_terms_lower  additive_terms_upper      yearly  \\\n",
       "0     -461.808985           -461.808985           -461.808985 -461.808985   \n",
       "1     -426.178759           -426.178759           -426.178759 -426.178759   \n",
       "2     -178.363746           -178.363746           -178.363746 -178.363746   \n",
       "3     -195.905793           -195.905793           -195.905793 -195.905793   \n",
       "4       45.003300             45.003300             45.003300   45.003300   \n",
       "\n",
       "   yearly_lower  yearly_upper  multiplicative_terms  \\\n",
       "0   -461.808985   -461.808985                   0.0   \n",
       "1   -426.178759   -426.178759                   0.0   \n",
       "2   -178.363746   -178.363746                   0.0   \n",
       "3   -195.905793   -195.905793                   0.0   \n",
       "4     45.003300     45.003300                   0.0   \n",
       "\n",
       "   multiplicative_terms_lower  multiplicative_terms_upper         yhat  \n",
       "0                         0.0                         0.0  1315.941840  \n",
       "1                         0.0                         0.0  1354.238270  \n",
       "2                         0.0                         0.0  1604.547472  \n",
       "3                         0.0                         0.0  1589.671629  \n",
       "4                         0.0                         0.0  1833.160919  "
      ]
     },
     "execution_count": 15,
     "metadata": {},
     "output_type": "execute_result"
    }
   ],
   "source": [
    "forecast.head()"
   ]
  },
  {
   "cell_type": "code",
   "execution_count": 17,
   "metadata": {},
   "outputs": [
    {
     "name": "stderr",
     "output_type": "stream",
     "text": [
      "/Users/minkyung/Dropbox/mk-personal-repo/time-series-analysis/venv-timeseries/lib/python3.7/site-packages/matplotlib/cbook/__init__.py:1377: FutureWarning: Support for multi-dimensional indexing (e.g. `obj[:, None]`) is deprecated and will be removed in a future version.  Convert to a numpy array before indexing instead.\n",
      "  x[:, None]\n",
      "/Users/minkyung/Dropbox/mk-personal-repo/time-series-analysis/venv-timeseries/lib/python3.7/site-packages/matplotlib/axes/_base.py:239: FutureWarning: Support for multi-dimensional indexing (e.g. `obj[:, None]`) is deprecated and will be removed in a future version.  Convert to a numpy array before indexing instead.\n",
      "  y = y[:, np.newaxis]\n"
     ]
    },
    {
     "data": {
      "image/png": "[encoded data removed]",
      "text/plain": [
       "<Figure size 720x432 with 1 Axes>"
      ]
     },
     "metadata": {},
     "output_type": "display_data"
    }
   ],
   "source": [
    "# Prophet's own plotting tool to see \n",
    "m.plot(forecast);"
   ]
  },
  {
   "cell_type": "code",
   "execution_count": 18,
   "metadata": {},
   "outputs": [
    {
     "data": {
      "text/plain": [
       "(735234.0, 737791.0)"
      ]
     },
     "execution_count": 18,
     "metadata": {},
     "output_type": "execute_result"
    },
    {
     "data": {
      "image/png": "[encoded data removed]",
      "text/plain": [
       "<Figure size 720x432 with 1 Axes>"
      ]
     },
     "metadata": {},
     "output_type": "display_data"
    }
   ],
   "source": [
    "# zoom in for the prediction\n",
    "m.plot(forecast);\n",
    "plt.xlim(pd.Timestamp('2014-01-01'), pd.Timestamp('2021-01-01'))"
   ]
  },
  {
   "cell_type": "code",
   "execution_count": 19,
   "metadata": {},
   "outputs": [
    {
     "name": "stderr",
     "output_type": "stream",
     "text": [
      "/Users/minkyung/Dropbox/mk-personal-repo/time-series-analysis/venv-timeseries/lib/python3.7/site-packages/matplotlib/cbook/__init__.py:1377: FutureWarning: Support for multi-dimensional indexing (e.g. `obj[:, None]`) is deprecated and will be removed in a future version.  Convert to a numpy array before indexing instead.\n",
      "  x[:, None]\n",
      "/Users/minkyung/Dropbox/mk-personal-repo/time-series-analysis/venv-timeseries/lib/python3.7/site-packages/matplotlib/axes/_base.py:239: FutureWarning: Support for multi-dimensional indexing (e.g. `obj[:, None]`) is deprecated and will be removed in a future version.  Convert to a numpy array before indexing instead.\n",
      "  y = y[:, np.newaxis]\n"
     ]
    },
    {
     "data": {
      "image/png": "[encoded data removed]",
      "text/plain": [
       "<Figure size 648x432 with 2 Axes>"
      ]
     },
     "metadata": {},
     "output_type": "display_data"
    }
   ],
   "source": [
    "m.plot_components(forecast);"
   ]
  },
  {
   "cell_type": "markdown",
   "metadata": {},
   "source": [
    "# 2. Evaluation"
   ]
  },
  {
   "cell_type": "code",
   "execution_count": 20,
   "metadata": {},
   "outputs": [],
   "source": [
    "df = pd.read_csv('../Data/Miles_Traveled.csv')"
   ]
  },
  {
   "cell_type": "code",
   "execution_count": 21,
   "metadata": {},
   "outputs": [
    {
     "name": "stdout",
     "output_type": "stream",
     "text": [
      "<class 'pandas.core.frame.DataFrame'>\n",
      "RangeIndex: 588 entries, 0 to 587\n",
      "Data columns (total 2 columns):\n",
      " #   Column            Non-Null Count  Dtype  \n",
      "---  ------            --------------  -----  \n",
      " 0   DATE              588 non-null    object \n",
      " 1   TRFVOLUSM227NFWA  588 non-null    float64\n",
      "dtypes: float64(1), object(1)\n",
      "memory usage: 9.3+ KB\n"
     ]
    }
   ],
   "source": [
    "df.info()"
   ]
  },
  {
   "cell_type": "code",
   "execution_count": 23,
   "metadata": {},
   "outputs": [],
   "source": [
    "df.columns = ['ds', 'y']\n",
    "df['ds'] = pd.to_datetime(df['ds'])"
   ]
  },
  {
   "cell_type": "code",
   "execution_count": 24,
   "metadata": {},
   "outputs": [
    {
     "data": {
      "text/html": [
       "<div>\n",
       "<style scoped>\n",
       "    .dataframe tbody tr th:only-of-type {\n",
       "        vertical-align: middle;\n",
       "    }\n",
       "\n",
       "    .dataframe tbody tr th {\n",
       "        vertical-align: top;\n",
       "    }\n",
       "\n",
       "    .dataframe thead th {\n",
       "        text-align: right;\n",
       "    }\n",
       "</style>\n",
       "<table border=\"1\" class=\"dataframe\">\n",
       "  <thead>\n",
       "    <tr style=\"text-align: right;\">\n",
       "      <th></th>\n",
       "      <th>ds</th>\n",
       "      <th>y</th>\n",
       "    </tr>\n",
       "  </thead>\n",
       "  <tbody>\n",
       "    <tr>\n",
       "      <th>0</th>\n",
       "      <td>1970-01-01</td>\n",
       "      <td>80173.0</td>\n",
       "    </tr>\n",
       "    <tr>\n",
       "      <th>1</th>\n",
       "      <td>1970-02-01</td>\n",
       "      <td>77442.0</td>\n",
       "    </tr>\n",
       "    <tr>\n",
       "      <th>2</th>\n",
       "      <td>1970-03-01</td>\n",
       "      <td>90223.0</td>\n",
       "    </tr>\n",
       "    <tr>\n",
       "      <th>3</th>\n",
       "      <td>1970-04-01</td>\n",
       "      <td>89956.0</td>\n",
       "    </tr>\n",
       "    <tr>\n",
       "      <th>4</th>\n",
       "      <td>1970-05-01</td>\n",
       "      <td>97972.0</td>\n",
       "    </tr>\n",
       "  </tbody>\n",
       "</table>\n",
       "</div>"
      ],
      "text/plain": [
       "          ds        y\n",
       "0 1970-01-01  80173.0\n",
       "1 1970-02-01  77442.0\n",
       "2 1970-03-01  90223.0\n",
       "3 1970-04-01  89956.0\n",
       "4 1970-05-01  97972.0"
      ]
     },
     "execution_count": 24,
     "metadata": {},
     "output_type": "execute_result"
    }
   ],
   "source": [
    "df.head()"
   ]
  },
  {
   "cell_type": "code",
   "execution_count": 54,
   "metadata": {},
   "outputs": [
    {
     "data": {
      "text/html": [
       "<div>\n",
       "<style scoped>\n",
       "    .dataframe tbody tr th:only-of-type {\n",
       "        vertical-align: middle;\n",
       "    }\n",
       "\n",
       "    .dataframe tbody tr th {\n",
       "        vertical-align: top;\n",
       "    }\n",
       "\n",
       "    .dataframe thead th {\n",
       "        text-align: right;\n",
       "    }\n",
       "</style>\n",
       "<table border=\"1\" class=\"dataframe\">\n",
       "  <thead>\n",
       "    <tr style=\"text-align: right;\">\n",
       "      <th></th>\n",
       "      <th>ds</th>\n",
       "      <th>y</th>\n",
       "    </tr>\n",
       "  </thead>\n",
       "  <tbody>\n",
       "    <tr>\n",
       "      <th>583</th>\n",
       "      <td>2018-08-01</td>\n",
       "      <td>286608.0</td>\n",
       "    </tr>\n",
       "    <tr>\n",
       "      <th>584</th>\n",
       "      <td>2018-09-01</td>\n",
       "      <td>260595.0</td>\n",
       "    </tr>\n",
       "    <tr>\n",
       "      <th>585</th>\n",
       "      <td>2018-10-01</td>\n",
       "      <td>282174.0</td>\n",
       "    </tr>\n",
       "    <tr>\n",
       "      <th>586</th>\n",
       "      <td>2018-11-01</td>\n",
       "      <td>258590.0</td>\n",
       "    </tr>\n",
       "    <tr>\n",
       "      <th>587</th>\n",
       "      <td>2018-12-01</td>\n",
       "      <td>268413.0</td>\n",
       "    </tr>\n",
       "  </tbody>\n",
       "</table>\n",
       "</div>"
      ],
      "text/plain": [
       "            ds         y\n",
       "583 2018-08-01  286608.0\n",
       "584 2018-09-01  260595.0\n",
       "585 2018-10-01  282174.0\n",
       "586 2018-11-01  258590.0\n",
       "587 2018-12-01  268413.0"
      ]
     },
     "execution_count": 54,
     "metadata": {},
     "output_type": "execute_result"
    }
   ],
   "source": [
    "df.tail()"
   ]
  },
  {
   "cell_type": "code",
   "execution_count": 25,
   "metadata": {
    "scrolled": true
   },
   "outputs": [
    {
     "data": {
      "text/plain": [
       "588"
      ]
     },
     "execution_count": 25,
     "metadata": {},
     "output_type": "execute_result"
    }
   ],
   "source": [
    "len(df)"
   ]
  },
  {
   "cell_type": "code",
   "execution_count": 26,
   "metadata": {},
   "outputs": [],
   "source": [
    "train = df.iloc[:576]\n",
    "test = df.iloc[576:]"
   ]
  },
  {
   "cell_type": "code",
   "execution_count": 27,
   "metadata": {},
   "outputs": [
    {
     "name": "stderr",
     "output_type": "stream",
     "text": [
      "INFO:fbprophet:Disabling weekly seasonality. Run prophet with weekly_seasonality=True to override this.\n",
      "INFO:fbprophet:Disabling daily seasonality. Run prophet with daily_seasonality=True to override this.\n"
     ]
    }
   ],
   "source": [
    "# fit model \n",
    "m = Prophet()\n",
    "m.fit(train)\n",
    "\n",
    "# create future data \n",
    "future = m.make_future_dataframe(periods=12, freq='MS')\n",
    "forecast = m.predict(future)"
   ]
  },
  {
   "cell_type": "code",
   "execution_count": 38,
   "metadata": {},
   "outputs": [
    {
     "data": {
      "text/html": [
       "<div>\n",
       "<style scoped>\n",
       "    .dataframe tbody tr th:only-of-type {\n",
       "        vertical-align: middle;\n",
       "    }\n",
       "\n",
       "    .dataframe tbody tr th {\n",
       "        vertical-align: top;\n",
       "    }\n",
       "\n",
       "    .dataframe thead th {\n",
       "        text-align: right;\n",
       "    }\n",
       "</style>\n",
       "<table border=\"1\" class=\"dataframe\">\n",
       "  <thead>\n",
       "    <tr style=\"text-align: right;\">\n",
       "      <th></th>\n",
       "      <th>ds</th>\n",
       "      <th>trend</th>\n",
       "      <th>yhat_lower</th>\n",
       "      <th>yhat_upper</th>\n",
       "      <th>trend_lower</th>\n",
       "      <th>trend_upper</th>\n",
       "      <th>additive_terms</th>\n",
       "      <th>additive_terms_lower</th>\n",
       "      <th>additive_terms_upper</th>\n",
       "      <th>yearly</th>\n",
       "      <th>yearly_lower</th>\n",
       "      <th>yearly_upper</th>\n",
       "      <th>multiplicative_terms</th>\n",
       "      <th>multiplicative_terms_lower</th>\n",
       "      <th>multiplicative_terms_upper</th>\n",
       "      <th>yhat</th>\n",
       "    </tr>\n",
       "  </thead>\n",
       "  <tbody>\n",
       "    <tr>\n",
       "      <th>583</th>\n",
       "      <td>2018-08-01</td>\n",
       "      <td>263332.075594</td>\n",
       "      <td>274349.439901</td>\n",
       "      <td>285365.317570</td>\n",
       "      <td>263243.662770</td>\n",
       "      <td>263396.370675</td>\n",
       "      <td>16449.176404</td>\n",
       "      <td>16449.176404</td>\n",
       "      <td>16449.176404</td>\n",
       "      <td>16449.176404</td>\n",
       "      <td>16449.176404</td>\n",
       "      <td>16449.176404</td>\n",
       "      <td>0.0</td>\n",
       "      <td>0.0</td>\n",
       "      <td>0.0</td>\n",
       "      <td>279781.251998</td>\n",
       "    </tr>\n",
       "    <tr>\n",
       "      <th>584</th>\n",
       "      <td>2018-09-01</td>\n",
       "      <td>263472.647137</td>\n",
       "      <td>256305.907339</td>\n",
       "      <td>267854.148612</td>\n",
       "      <td>263340.018190</td>\n",
       "      <td>263561.793690</td>\n",
       "      <td>-1668.588186</td>\n",
       "      <td>-1668.588186</td>\n",
       "      <td>-1668.588186</td>\n",
       "      <td>-1668.588186</td>\n",
       "      <td>-1668.588186</td>\n",
       "      <td>-1668.588186</td>\n",
       "      <td>0.0</td>\n",
       "      <td>0.0</td>\n",
       "      <td>0.0</td>\n",
       "      <td>261804.058951</td>\n",
       "    </tr>\n",
       "    <tr>\n",
       "      <th>585</th>\n",
       "      <td>2018-10-01</td>\n",
       "      <td>263608.684114</td>\n",
       "      <td>263567.339573</td>\n",
       "      <td>274348.342649</td>\n",
       "      <td>263430.544100</td>\n",
       "      <td>263724.284925</td>\n",
       "      <td>5307.790802</td>\n",
       "      <td>5307.790802</td>\n",
       "      <td>5307.790802</td>\n",
       "      <td>5307.790802</td>\n",
       "      <td>5307.790802</td>\n",
       "      <td>5307.790802</td>\n",
       "      <td>0.0</td>\n",
       "      <td>0.0</td>\n",
       "      <td>0.0</td>\n",
       "      <td>268916.474916</td>\n",
       "    </tr>\n",
       "    <tr>\n",
       "      <th>586</th>\n",
       "      <td>2018-11-01</td>\n",
       "      <td>263749.255657</td>\n",
       "      <td>249579.721681</td>\n",
       "      <td>261001.530770</td>\n",
       "      <td>263548.642518</td>\n",
       "      <td>263898.034912</td>\n",
       "      <td>-8206.648040</td>\n",
       "      <td>-8206.648040</td>\n",
       "      <td>-8206.648040</td>\n",
       "      <td>-8206.648040</td>\n",
       "      <td>-8206.648040</td>\n",
       "      <td>-8206.648040</td>\n",
       "      <td>0.0</td>\n",
       "      <td>0.0</td>\n",
       "      <td>0.0</td>\n",
       "      <td>255542.607617</td>\n",
       "    </tr>\n",
       "    <tr>\n",
       "      <th>587</th>\n",
       "      <td>2018-12-01</td>\n",
       "      <td>263885.292634</td>\n",
       "      <td>251205.183999</td>\n",
       "      <td>262359.554901</td>\n",
       "      <td>263631.196304</td>\n",
       "      <td>264079.704119</td>\n",
       "      <td>-6919.794734</td>\n",
       "      <td>-6919.794734</td>\n",
       "      <td>-6919.794734</td>\n",
       "      <td>-6919.794734</td>\n",
       "      <td>-6919.794734</td>\n",
       "      <td>-6919.794734</td>\n",
       "      <td>0.0</td>\n",
       "      <td>0.0</td>\n",
       "      <td>0.0</td>\n",
       "      <td>256965.497900</td>\n",
       "    </tr>\n",
       "  </tbody>\n",
       "</table>\n",
       "</div>"
      ],
      "text/plain": [
       "            ds          trend     yhat_lower     yhat_upper    trend_lower  \\\n",
       "583 2018-08-01  263332.075594  274349.439901  285365.317570  263243.662770   \n",
       "584 2018-09-01  263472.647137  256305.907339  267854.148612  263340.018190   \n",
       "585 2018-10-01  263608.684114  263567.339573  274348.342649  263430.544100   \n",
       "586 2018-11-01  263749.255657  249579.721681  261001.530770  263548.642518   \n",
       "587 2018-12-01  263885.292634  251205.183999  262359.554901  263631.196304   \n",
       "\n",
       "       trend_upper  additive_terms  additive_terms_lower  \\\n",
       "583  263396.370675    16449.176404          16449.176404   \n",
       "584  263561.793690    -1668.588186          -1668.588186   \n",
       "585  263724.284925     5307.790802           5307.790802   \n",
       "586  263898.034912    -8206.648040          -8206.648040   \n",
       "587  264079.704119    -6919.794734          -6919.794734   \n",
       "\n",
       "     additive_terms_upper        yearly  yearly_lower  yearly_upper  \\\n",
       "583          16449.176404  16449.176404  16449.176404  16449.176404   \n",
       "584          -1668.588186  -1668.588186  -1668.588186  -1668.588186   \n",
       "585           5307.790802   5307.790802   5307.790802   5307.790802   \n",
       "586          -8206.648040  -8206.648040  -8206.648040  -8206.648040   \n",
       "587          -6919.794734  -6919.794734  -6919.794734  -6919.794734   \n",
       "\n",
       "     multiplicative_terms  multiplicative_terms_lower  \\\n",
       "583                   0.0                         0.0   \n",
       "584                   0.0                         0.0   \n",
       "585                   0.0                         0.0   \n",
       "586                   0.0                         0.0   \n",
       "587                   0.0                         0.0   \n",
       "\n",
       "     multiplicative_terms_upper           yhat  \n",
       "583                         0.0  279781.251998  \n",
       "584                         0.0  261804.058951  \n",
       "585                         0.0  268916.474916  \n",
       "586                         0.0  255542.607617  \n",
       "587                         0.0  256965.497900  "
      ]
     },
     "execution_count": 38,
     "metadata": {},
     "output_type": "execute_result"
    }
   ],
   "source": [
    "forecast.tail()"
   ]
  },
  {
   "cell_type": "code",
   "execution_count": 40,
   "metadata": {},
   "outputs": [
    {
     "data": {
      "text/plain": [
       "(576, 588)"
      ]
     },
     "execution_count": 40,
     "metadata": {},
     "output_type": "execute_result"
    },
    {
     "data": {
      "image/png": "[encoded data removed]",
      "text/plain": [
       "<Figure size 720x360 with 1 Axes>"
      ]
     },
     "metadata": {
      "needs_background": "light"
     },
     "output_type": "display_data"
    }
   ],
   "source": [
    "ax = forecast.plot(x='ds', y='yhat', label='Predictions', legend=True, figsize=(10, 5))\n",
    "test.plot(x='ds', y='y', label='True Test Data', legend=True, ax=ax)\n",
    "plt.xlim(pd.Timestamp('2018-01-01'), pd.Timestamp('2019-01-01'))"
   ]
  },
  {
   "cell_type": "markdown",
   "metadata": {},
   "source": [
    "## Normal way of calculating performance"
   ]
  },
  {
   "cell_type": "code",
   "execution_count": 42,
   "metadata": {},
   "outputs": [
    {
     "data": {
      "text/plain": [
       "8672.829976541623"
      ]
     },
     "execution_count": 42,
     "metadata": {},
     "output_type": "execute_result"
    }
   ],
   "source": [
    "from statsmodels.tools.eval_measures import rmse\n",
    "\n",
    "predictions = forecast.iloc[-12:]['yhat']\n",
    "actuals = test['y']\n",
    "\n",
    "rmse(predictions, actuals)"
   ]
  },
  {
   "cell_type": "markdown",
   "metadata": {},
   "source": [
    "## Prophet's diagnostics tools"
   ]
  },
  {
   "cell_type": "code",
   "execution_count": 43,
   "metadata": {},
   "outputs": [],
   "source": [
    "from fbprophet.diagnostics import cross_validation, performance_metrics \n",
    "from fbprophet.plot import plot_cross_validation_metric"
   ]
  },
  {
   "cell_type": "code",
   "execution_count": 55,
   "metadata": {},
   "outputs": [],
   "source": [
    "# horizon: prediction horizon for each fold (how far how do you want to forecast?)\n",
    "horizon = str(365) + ' days'\n",
    "\n",
    "# initial: initial training period\n",
    "initial = str(5 * 365) + ' days'  # use 5 years of daily data to train\n",
    "\n",
    "# period: spacing between cutoff dates\n",
    "period = str(365) + ' days'\n"
   ]
  },
  {
   "cell_type": "code",
   "execution_count": 56,
   "metadata": {},
   "outputs": [
    {
     "name": "stderr",
     "output_type": "stream",
     "text": [
      "INFO:fbprophet:Making 42 forecasts with cutoffs between 1975-12-12 00:00:00 and 2016-12-01 00:00:00\n"
     ]
    },
    {
     "data": {
      "application/vnd.jupyter.widget-view+json": {
       "model_id": "4c8cf5dedef540a080dc2c1b2d69656d",
       "version_major": 2,
       "version_minor": 0
      },
      "text/plain": [
       "HBox(children=(HTML(value=''), FloatProgress(value=0.0, max=42.0), HTML(value='')))"
      ]
     },
     "metadata": {},
     "output_type": "display_data"
    },
    {
     "name": "stdout",
     "output_type": "stream",
     "text": [
      "\n"
     ]
    }
   ],
   "source": [
    "df_cv = cross_validation(m, initial=initial, period=period, horizon=horizon)"
   ]
  },
  {
   "cell_type": "code",
   "execution_count": 58,
   "metadata": {},
   "outputs": [
    {
     "data": {
      "text/html": [
       "<div>\n",
       "<style scoped>\n",
       "    .dataframe tbody tr th:only-of-type {\n",
       "        vertical-align: middle;\n",
       "    }\n",
       "\n",
       "    .dataframe tbody tr th {\n",
       "        vertical-align: top;\n",
       "    }\n",
       "\n",
       "    .dataframe thead th {\n",
       "        text-align: right;\n",
       "    }\n",
       "</style>\n",
       "<table border=\"1\" class=\"dataframe\">\n",
       "  <thead>\n",
       "    <tr style=\"text-align: right;\">\n",
       "      <th></th>\n",
       "      <th>ds</th>\n",
       "      <th>yhat</th>\n",
       "      <th>yhat_lower</th>\n",
       "      <th>yhat_upper</th>\n",
       "      <th>y</th>\n",
       "      <th>cutoff</th>\n",
       "    </tr>\n",
       "  </thead>\n",
       "  <tbody>\n",
       "    <tr>\n",
       "      <th>0</th>\n",
       "      <td>1976-01-01</td>\n",
       "      <td>102282.737592</td>\n",
       "      <td>100903.320873</td>\n",
       "      <td>103653.469134</td>\n",
       "      <td>102460.0</td>\n",
       "      <td>1975-12-12</td>\n",
       "    </tr>\n",
       "    <tr>\n",
       "      <th>1</th>\n",
       "      <td>1976-02-01</td>\n",
       "      <td>96811.141761</td>\n",
       "      <td>95479.822785</td>\n",
       "      <td>98223.926491</td>\n",
       "      <td>98528.0</td>\n",
       "      <td>1975-12-12</td>\n",
       "    </tr>\n",
       "    <tr>\n",
       "      <th>2</th>\n",
       "      <td>1976-03-01</td>\n",
       "      <td>112360.483572</td>\n",
       "      <td>111000.943794</td>\n",
       "      <td>113692.351899</td>\n",
       "      <td>114284.0</td>\n",
       "      <td>1975-12-12</td>\n",
       "    </tr>\n",
       "    <tr>\n",
       "      <th>3</th>\n",
       "      <td>1976-04-01</td>\n",
       "      <td>112029.016859</td>\n",
       "      <td>110622.280635</td>\n",
       "      <td>113422.565442</td>\n",
       "      <td>117014.0</td>\n",
       "      <td>1975-12-12</td>\n",
       "    </tr>\n",
       "    <tr>\n",
       "      <th>4</th>\n",
       "      <td>1976-05-01</td>\n",
       "      <td>119161.998160</td>\n",
       "      <td>117640.485452</td>\n",
       "      <td>120619.116250</td>\n",
       "      <td>123278.0</td>\n",
       "      <td>1975-12-12</td>\n",
       "    </tr>\n",
       "    <tr>\n",
       "      <th>...</th>\n",
       "      <td>...</td>\n",
       "      <td>...</td>\n",
       "      <td>...</td>\n",
       "      <td>...</td>\n",
       "      <td>...</td>\n",
       "      <td>...</td>\n",
       "    </tr>\n",
       "    <tr>\n",
       "      <th>499</th>\n",
       "      <td>2017-08-01</td>\n",
       "      <td>273461.375852</td>\n",
       "      <td>267718.507169</td>\n",
       "      <td>279414.988173</td>\n",
       "      <td>283184.0</td>\n",
       "      <td>2016-12-01</td>\n",
       "    </tr>\n",
       "    <tr>\n",
       "      <th>500</th>\n",
       "      <td>2017-09-01</td>\n",
       "      <td>255582.789277</td>\n",
       "      <td>250361.578487</td>\n",
       "      <td>261404.705446</td>\n",
       "      <td>262673.0</td>\n",
       "      <td>2016-12-01</td>\n",
       "    </tr>\n",
       "    <tr>\n",
       "      <th>501</th>\n",
       "      <td>2017-10-01</td>\n",
       "      <td>262689.444631</td>\n",
       "      <td>257381.776196</td>\n",
       "      <td>268790.685459</td>\n",
       "      <td>278937.0</td>\n",
       "      <td>2016-12-01</td>\n",
       "    </tr>\n",
       "    <tr>\n",
       "      <th>502</th>\n",
       "      <td>2017-11-01</td>\n",
       "      <td>249341.802877</td>\n",
       "      <td>244127.700288</td>\n",
       "      <td>255588.726348</td>\n",
       "      <td>257712.0</td>\n",
       "      <td>2016-12-01</td>\n",
       "    </tr>\n",
       "    <tr>\n",
       "      <th>503</th>\n",
       "      <td>2017-12-01</td>\n",
       "      <td>250590.080017</td>\n",
       "      <td>244863.928381</td>\n",
       "      <td>256324.056919</td>\n",
       "      <td>266535.0</td>\n",
       "      <td>2016-12-01</td>\n",
       "    </tr>\n",
       "  </tbody>\n",
       "</table>\n",
       "<p>504 rows × 6 columns</p>\n",
       "</div>"
      ],
      "text/plain": [
       "            ds           yhat     yhat_lower     yhat_upper         y  \\\n",
       "0   1976-01-01  102282.737592  100903.320873  103653.469134  102460.0   \n",
       "1   1976-02-01   96811.141761   95479.822785   98223.926491   98528.0   \n",
       "2   1976-03-01  112360.483572  111000.943794  113692.351899  114284.0   \n",
       "3   1976-04-01  112029.016859  110622.280635  113422.565442  117014.0   \n",
       "4   1976-05-01  119161.998160  117640.485452  120619.116250  123278.0   \n",
       "..         ...            ...            ...            ...       ...   \n",
       "499 2017-08-01  273461.375852  267718.507169  279414.988173  283184.0   \n",
       "500 2017-09-01  255582.789277  250361.578487  261404.705446  262673.0   \n",
       "501 2017-10-01  262689.444631  257381.776196  268790.685459  278937.0   \n",
       "502 2017-11-01  249341.802877  244127.700288  255588.726348  257712.0   \n",
       "503 2017-12-01  250590.080017  244863.928381  256324.056919  266535.0   \n",
       "\n",
       "        cutoff  \n",
       "0   1975-12-12  \n",
       "1   1975-12-12  \n",
       "2   1975-12-12  \n",
       "3   1975-12-12  \n",
       "4   1975-12-12  \n",
       "..         ...  \n",
       "499 2016-12-01  \n",
       "500 2016-12-01  \n",
       "501 2016-12-01  \n",
       "502 2016-12-01  \n",
       "503 2016-12-01  \n",
       "\n",
       "[504 rows x 6 columns]"
      ]
     },
     "execution_count": 58,
     "metadata": {},
     "output_type": "execute_result"
    }
   ],
   "source": [
    "df_cv"
   ]
  },
  {
   "cell_type": "code",
   "execution_count": 64,
   "metadata": {},
   "outputs": [
    {
     "data": {
      "text/html": [
       "<div>\n",
       "<style scoped>\n",
       "    .dataframe tbody tr th:only-of-type {\n",
       "        vertical-align: middle;\n",
       "    }\n",
       "\n",
       "    .dataframe tbody tr th {\n",
       "        vertical-align: top;\n",
       "    }\n",
       "\n",
       "    .dataframe thead th {\n",
       "        text-align: right;\n",
       "    }\n",
       "</style>\n",
       "<table border=\"1\" class=\"dataframe\">\n",
       "  <thead>\n",
       "    <tr style=\"text-align: right;\">\n",
       "      <th></th>\n",
       "      <th>horizon</th>\n",
       "      <th>mse</th>\n",
       "      <th>rmse</th>\n",
       "      <th>mae</th>\n",
       "      <th>mape</th>\n",
       "      <th>mdape</th>\n",
       "      <th>coverage</th>\n",
       "    </tr>\n",
       "  </thead>\n",
       "  <tbody>\n",
       "    <tr>\n",
       "      <th>0</th>\n",
       "      <td>53 days</td>\n",
       "      <td>4.010239e+07</td>\n",
       "      <td>6332.644745</td>\n",
       "      <td>5266.671930</td>\n",
       "      <td>0.031509</td>\n",
       "      <td>0.029479</td>\n",
       "      <td>0.34</td>\n",
       "    </tr>\n",
       "    <tr>\n",
       "      <th>1</th>\n",
       "      <td>54 days</td>\n",
       "      <td>4.109227e+07</td>\n",
       "      <td>6410.325596</td>\n",
       "      <td>5296.390772</td>\n",
       "      <td>0.031396</td>\n",
       "      <td>0.029479</td>\n",
       "      <td>0.36</td>\n",
       "    </tr>\n",
       "    <tr>\n",
       "      <th>2</th>\n",
       "      <td>55 days</td>\n",
       "      <td>4.404002e+07</td>\n",
       "      <td>6636.265748</td>\n",
       "      <td>5542.733997</td>\n",
       "      <td>0.032319</td>\n",
       "      <td>0.030750</td>\n",
       "      <td>0.34</td>\n",
       "    </tr>\n",
       "    <tr>\n",
       "      <th>3</th>\n",
       "      <td>56 days</td>\n",
       "      <td>4.594746e+07</td>\n",
       "      <td>6778.455741</td>\n",
       "      <td>5796.048359</td>\n",
       "      <td>0.033363</td>\n",
       "      <td>0.032088</td>\n",
       "      <td>0.28</td>\n",
       "    </tr>\n",
       "    <tr>\n",
       "      <th>4</th>\n",
       "      <td>57 days</td>\n",
       "      <td>4.474610e+07</td>\n",
       "      <td>6689.252301</td>\n",
       "      <td>5783.663040</td>\n",
       "      <td>0.032856</td>\n",
       "      <td>0.031696</td>\n",
       "      <td>0.28</td>\n",
       "    </tr>\n",
       "    <tr>\n",
       "      <th>...</th>\n",
       "      <td>...</td>\n",
       "      <td>...</td>\n",
       "      <td>...</td>\n",
       "      <td>...</td>\n",
       "      <td>...</td>\n",
       "      <td>...</td>\n",
       "      <td>...</td>\n",
       "    </tr>\n",
       "    <tr>\n",
       "      <th>115</th>\n",
       "      <td>361 days</td>\n",
       "      <td>2.875645e+07</td>\n",
       "      <td>5362.504508</td>\n",
       "      <td>3933.075935</td>\n",
       "      <td>0.020114</td>\n",
       "      <td>0.014962</td>\n",
       "      <td>0.62</td>\n",
       "    </tr>\n",
       "    <tr>\n",
       "      <th>116</th>\n",
       "      <td>362 days</td>\n",
       "      <td>3.159028e+07</td>\n",
       "      <td>5620.522890</td>\n",
       "      <td>4135.046376</td>\n",
       "      <td>0.020846</td>\n",
       "      <td>0.014962</td>\n",
       "      <td>0.60</td>\n",
       "    </tr>\n",
       "    <tr>\n",
       "      <th>117</th>\n",
       "      <td>363 days</td>\n",
       "      <td>3.812092e+07</td>\n",
       "      <td>6174.213923</td>\n",
       "      <td>4589.277999</td>\n",
       "      <td>0.022699</td>\n",
       "      <td>0.016928</td>\n",
       "      <td>0.56</td>\n",
       "    </tr>\n",
       "    <tr>\n",
       "      <th>118</th>\n",
       "      <td>364 days</td>\n",
       "      <td>4.645319e+07</td>\n",
       "      <td>6815.657891</td>\n",
       "      <td>4945.342446</td>\n",
       "      <td>0.024046</td>\n",
       "      <td>0.018317</td>\n",
       "      <td>0.56</td>\n",
       "    </tr>\n",
       "    <tr>\n",
       "      <th>119</th>\n",
       "      <td>365 days</td>\n",
       "      <td>5.319432e+07</td>\n",
       "      <td>7293.443351</td>\n",
       "      <td>5195.098213</td>\n",
       "      <td>0.024783</td>\n",
       "      <td>0.018317</td>\n",
       "      <td>0.56</td>\n",
       "    </tr>\n",
       "  </tbody>\n",
       "</table>\n",
       "<p>120 rows × 7 columns</p>\n",
       "</div>"
      ],
      "text/plain": [
       "     horizon           mse         rmse          mae      mape     mdape  \\\n",
       "0    53 days  4.010239e+07  6332.644745  5266.671930  0.031509  0.029479   \n",
       "1    54 days  4.109227e+07  6410.325596  5296.390772  0.031396  0.029479   \n",
       "2    55 days  4.404002e+07  6636.265748  5542.733997  0.032319  0.030750   \n",
       "3    56 days  4.594746e+07  6778.455741  5796.048359  0.033363  0.032088   \n",
       "4    57 days  4.474610e+07  6689.252301  5783.663040  0.032856  0.031696   \n",
       "..       ...           ...          ...          ...       ...       ...   \n",
       "115 361 days  2.875645e+07  5362.504508  3933.075935  0.020114  0.014962   \n",
       "116 362 days  3.159028e+07  5620.522890  4135.046376  0.020846  0.014962   \n",
       "117 363 days  3.812092e+07  6174.213923  4589.277999  0.022699  0.016928   \n",
       "118 364 days  4.645319e+07  6815.657891  4945.342446  0.024046  0.018317   \n",
       "119 365 days  5.319432e+07  7293.443351  5195.098213  0.024783  0.018317   \n",
       "\n",
       "     coverage  \n",
       "0        0.34  \n",
       "1        0.36  \n",
       "2        0.34  \n",
       "3        0.28  \n",
       "4        0.28  \n",
       "..        ...  \n",
       "115      0.62  \n",
       "116      0.60  \n",
       "117      0.56  \n",
       "118      0.56  \n",
       "119      0.56  \n",
       "\n",
       "[120 rows x 7 columns]"
      ]
     },
     "execution_count": 64,
     "metadata": {},
     "output_type": "execute_result"
    }
   ],
   "source": [
    "performance_metrics(df_cv)"
   ]
  },
  {
   "cell_type": "code",
   "execution_count": 65,
   "metadata": {},
   "outputs": [
    {
     "name": "stderr",
     "output_type": "stream",
     "text": [
      "/Users/minkyung/Dropbox/mk-personal-repo/time-series-analysis/venv-timeseries/lib/python3.7/site-packages/matplotlib/cbook/__init__.py:1377: FutureWarning: Support for multi-dimensional indexing (e.g. `obj[:, None]`) is deprecated and will be removed in a future version.  Convert to a numpy array before indexing instead.\n",
      "  x[:, None]\n",
      "/Users/minkyung/Dropbox/mk-personal-repo/time-series-analysis/venv-timeseries/lib/python3.7/site-packages/matplotlib/axes/_base.py:237: FutureWarning: Support for multi-dimensional indexing (e.g. `obj[:, None]`) is deprecated and will be removed in a future version.  Convert to a numpy array before indexing instead.\n",
      "  x = x[:, np.newaxis]\n",
      "/Users/minkyung/Dropbox/mk-personal-repo/time-series-analysis/venv-timeseries/lib/python3.7/site-packages/matplotlib/axes/_base.py:239: FutureWarning: Support for multi-dimensional indexing (e.g. `obj[:, None]`) is deprecated and will be removed in a future version.  Convert to a numpy array before indexing instead.\n",
      "  y = y[:, np.newaxis]\n"
     ]
    },
    {
     "data": {
      "image/png": "[encoded data removed]",
      "text/plain": [
       "<Figure size 720x432 with 1 Axes>"
      ]
     },
     "metadata": {},
     "output_type": "display_data"
    }
   ],
   "source": [
    "ax = plot_cross_validation_metric(df_cv, metric='rmse')"
   ]
  },
  {
   "cell_type": "code",
   "execution_count": null,
   "metadata": {},
   "outputs": [],
   "source": []
  }
 ],
 "metadata": {
  "kernelspec": {
   "display_name": "venv-timeseries",
   "language": "python",
   "name": "venv-timeseries"
  },
  "language_info": {
   "codemirror_mode": {
    "name": "ipython",
    "version": 3
   },
   "file_extension": ".py",
   "mimetype": "text/x-python",
   "name": "python",
   "nbconvert_exporter": "python",
   "pygments_lexer": "ipython3",
   "version": "3.7.3"
  }
 },
 "nbformat": 4,
 "nbformat_minor": 2
}
